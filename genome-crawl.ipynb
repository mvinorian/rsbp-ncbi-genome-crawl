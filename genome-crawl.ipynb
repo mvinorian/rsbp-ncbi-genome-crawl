{
 "cells": [
  {
   "cell_type": "markdown",
   "metadata": {},
   "source": [
    "Importing library"
   ]
  },
  {
   "cell_type": "code",
   "execution_count": 143,
   "metadata": {},
   "outputs": [],
   "source": [
    "import json\n",
    "import os\n",
    "import requests\n",
    "import pandas as pd"
   ]
  },
  {
   "cell_type": "markdown",
   "metadata": {},
   "source": [
    "Specify API_URL"
   ]
  },
  {
   "cell_type": "code",
   "execution_count": 144,
   "metadata": {},
   "outputs": [],
   "source": [
    "API_URL = \"https://api.ncbi.nlm.nih.gov/datasets/v2alpha\""
   ]
  },
  {
   "cell_type": "markdown",
   "metadata": {},
   "source": [
    "Get genome dataset report"
   ]
  },
  {
   "cell_type": "code",
   "execution_count": 145,
   "metadata": {},
   "outputs": [],
   "source": [
    "genome_report_url = API_URL + \"/genome/dataset_report\"\n",
    "genome_report_payload = {\n",
    "  \"filters\": {\n",
    "    \"exclude_paired_reports\": True,\n",
    "  },\n",
    "  \"page_size\": 10000,\n",
    "  \"page_token\": None,\n",
    "  \"returned_content\": \"COMPLETE\",\n",
    "  \"taxons\": [\n",
    "    \"1\",\n",
    "  ]\n",
    "}"
   ]
  },
  {
   "cell_type": "code",
   "execution_count": 146,
   "metadata": {},
   "outputs": [],
   "source": [
    "genome_report_filename = os.path.join(\"data/\" + \"genome_report.json\")"
   ]
  },
  {
   "cell_type": "code",
   "execution_count": 147,
   "metadata": {},
   "outputs": [],
   "source": [
    "genome_report_res = requests.post(genome_report_url, json=genome_report_payload)\n",
    "with open(genome_report_filename, \"w\") as file:\n",
    "  json.dump(genome_report_res.json(), file)"
   ]
  },
  {
   "cell_type": "markdown",
   "metadata": {},
   "source": [
    "Get accession name, taxon id, and organism name data"
   ]
  },
  {
   "cell_type": "code",
   "execution_count": 148,
   "metadata": {},
   "outputs": [],
   "source": [
    "genome_report_json = []\n",
    "with open(genome_report_filename, \"r\") as file:\n",
    "  genome_report_json = json.load(file)[\"reports\"]"
   ]
  },
  {
   "cell_type": "code",
   "execution_count": 149,
   "metadata": {},
   "outputs": [],
   "source": [
    "genome_data = []\n",
    "\n",
    "for genome_report in genome_report_json:\n",
    "  data = {\n",
    "    \"accession\": genome_report[\"accession\"],\n",
    "    \"tax_id\": genome_report[\"organism\"][\"tax_id\"],\n",
    "    \"organism_name\": genome_report[\"organism\"][\"organism_name\"],\n",
    "  }\n",
    "\n",
    "  genome_data.append(data)"
   ]
  },
  {
   "cell_type": "code",
   "execution_count": 150,
   "metadata": {},
   "outputs": [
    {
     "data": {
      "text/html": [
       "<div>\n",
       "<style scoped>\n",
       "    .dataframe tbody tr th:only-of-type {\n",
       "        vertical-align: middle;\n",
       "    }\n",
       "\n",
       "    .dataframe tbody tr th {\n",
       "        vertical-align: top;\n",
       "    }\n",
       "\n",
       "    .dataframe thead th {\n",
       "        text-align: right;\n",
       "    }\n",
       "</style>\n",
       "<table border=\"1\" class=\"dataframe\">\n",
       "  <thead>\n",
       "    <tr style=\"text-align: right;\">\n",
       "      <th></th>\n",
       "      <th>accession</th>\n",
       "      <th>tax_id</th>\n",
       "      <th>organism_name</th>\n",
       "    </tr>\n",
       "  </thead>\n",
       "  <tbody>\n",
       "    <tr>\n",
       "      <th>0</th>\n",
       "      <td>GCF_000006945.2</td>\n",
       "      <td>99287</td>\n",
       "      <td>Salmonella enterica subsp. enterica serovar Ty...</td>\n",
       "    </tr>\n",
       "    <tr>\n",
       "      <th>1</th>\n",
       "      <td>GCF_000195955.2</td>\n",
       "      <td>83332</td>\n",
       "      <td>Mycobacterium tuberculosis H37Rv</td>\n",
       "    </tr>\n",
       "    <tr>\n",
       "      <th>2</th>\n",
       "      <td>GCF_000009045.1</td>\n",
       "      <td>224308</td>\n",
       "      <td>Bacillus subtilis subsp. subtilis str. 168</td>\n",
       "    </tr>\n",
       "    <tr>\n",
       "      <th>3</th>\n",
       "      <td>GCF_009858895.2</td>\n",
       "      <td>2697049</td>\n",
       "      <td>Severe acute respiratory syndrome coronavirus 2</td>\n",
       "    </tr>\n",
       "    <tr>\n",
       "      <th>4</th>\n",
       "      <td>GCF_000864885.1</td>\n",
       "      <td>227984</td>\n",
       "      <td>SARS coronavirus Tor2</td>\n",
       "    </tr>\n",
       "    <tr>\n",
       "      <th>...</th>\n",
       "      <td>...</td>\n",
       "      <td>...</td>\n",
       "      <td>...</td>\n",
       "    </tr>\n",
       "    <tr>\n",
       "      <th>995</th>\n",
       "      <td>GCF_000969885.1</td>\n",
       "      <td>523844</td>\n",
       "      <td>Methanosarcina thermophila TM-1</td>\n",
       "    </tr>\n",
       "    <tr>\n",
       "      <th>996</th>\n",
       "      <td>GCF_000550785.1</td>\n",
       "      <td>1285583</td>\n",
       "      <td>Corynebacterium casei LMG S-19264</td>\n",
       "    </tr>\n",
       "    <tr>\n",
       "      <th>997</th>\n",
       "      <td>GCF_000025705.1</td>\n",
       "      <td>580332</td>\n",
       "      <td>Sideroxydans lithotrophicus ES-1</td>\n",
       "    </tr>\n",
       "    <tr>\n",
       "      <th>998</th>\n",
       "      <td>GCF_000013705.1</td>\n",
       "      <td>265072</td>\n",
       "      <td>Methylobacillus flagellatus KT</td>\n",
       "    </tr>\n",
       "    <tr>\n",
       "      <th>999</th>\n",
       "      <td>GCF_030408815.1</td>\n",
       "      <td>556548</td>\n",
       "      <td>Corynebacterium freiburgense</td>\n",
       "    </tr>\n",
       "  </tbody>\n",
       "</table>\n",
       "<p>1000 rows × 3 columns</p>\n",
       "</div>"
      ],
      "text/plain": [
       "           accession   tax_id  \\\n",
       "0    GCF_000006945.2    99287   \n",
       "1    GCF_000195955.2    83332   \n",
       "2    GCF_000009045.1   224308   \n",
       "3    GCF_009858895.2  2697049   \n",
       "4    GCF_000864885.1   227984   \n",
       "..               ...      ...   \n",
       "995  GCF_000969885.1   523844   \n",
       "996  GCF_000550785.1  1285583   \n",
       "997  GCF_000025705.1   580332   \n",
       "998  GCF_000013705.1   265072   \n",
       "999  GCF_030408815.1   556548   \n",
       "\n",
       "                                         organism_name  \n",
       "0    Salmonella enterica subsp. enterica serovar Ty...  \n",
       "1                     Mycobacterium tuberculosis H37Rv  \n",
       "2           Bacillus subtilis subsp. subtilis str. 168  \n",
       "3      Severe acute respiratory syndrome coronavirus 2  \n",
       "4                                SARS coronavirus Tor2  \n",
       "..                                                 ...  \n",
       "995                    Methanosarcina thermophila TM-1  \n",
       "996                  Corynebacterium casei LMG S-19264  \n",
       "997                   Sideroxydans lithotrophicus ES-1  \n",
       "998                     Methylobacillus flagellatus KT  \n",
       "999                       Corynebacterium freiburgense  \n",
       "\n",
       "[1000 rows x 3 columns]"
      ]
     },
     "execution_count": 150,
     "metadata": {},
     "output_type": "execute_result"
    }
   ],
   "source": [
    "genome_data_df = pd.DataFrame(genome_data)\n",
    "genome_data_df"
   ]
  },
  {
   "cell_type": "code",
   "execution_count": 151,
   "metadata": {},
   "outputs": [],
   "source": [
    "genome_data_filename = os.path.join(\"data/\" + \"genome_data.csv\")"
   ]
  },
  {
   "cell_type": "code",
   "execution_count": 152,
   "metadata": {},
   "outputs": [],
   "source": [
    "genome_data_df.to_csv(genome_data_filename, index=False)"
   ]
  },
  {
   "cell_type": "markdown",
   "metadata": {},
   "source": [
    "Get genome fna"
   ]
  },
  {
   "cell_type": "code",
   "execution_count": 153,
   "metadata": {},
   "outputs": [],
   "source": [
    "genome_data_df = pd.read_csv(genome_data_filename)\n",
    "genome_data = genome_data_df.iloc"
   ]
  },
  {
   "cell_type": "code",
   "execution_count": 154,
   "metadata": {},
   "outputs": [],
   "source": [
    "genome_download_url = []\n",
    "for data in genome_data:\n",
    "  filename = data[\"organism_name\"]\n",
    "  filename = filename.replace(\" \", \"_\")\n",
    "  genome_download_url.append(API_URL + f\"/genome/accession/{data['accession']}/download?include_annotation_type=GENOME_FASTA&filename={filename}.zip\")\n",
    "\n",
    "genome_data_df[\"download_url\"] = genome_download_url"
   ]
  },
  {
   "cell_type": "code",
   "execution_count": 155,
   "metadata": {},
   "outputs": [],
   "source": [
    "genome_data_df.to_csv(genome_data_filename)"
   ]
  },
  {
   "cell_type": "markdown",
   "metadata": {},
   "source": [
    "Try to download genome fna"
   ]
  },
  {
   "cell_type": "code",
   "execution_count": 156,
   "metadata": {},
   "outputs": [],
   "source": [
    "genome_data_df = pd.read_csv(genome_data_filename)"
   ]
  },
  {
   "cell_type": "code",
   "execution_count": 157,
   "metadata": {},
   "outputs": [],
   "source": [
    "genome_download_filename = genome_data_df.iloc[0][\"download_url\"].split(\"filename=\")[1]\n",
    "genome_download_filename = os.path.join(\"download/\" + genome_download_filename)\n",
    "\n",
    "genome_download_res = requests.get(genome_data_df.iloc[0][\"download_url\"])\n",
    "with open(genome_download_filename, \"wb\") as file:\n",
    "  file.write(genome_download_res.content) "
   ]
  },
  {
   "cell_type": "markdown",
   "metadata": {},
   "source": [
    "Download sample genome fna"
   ]
  },
  {
   "cell_type": "code",
   "execution_count": 158,
   "metadata": {},
   "outputs": [],
   "source": [
    "genome_data_df = pd.read_csv(genome_data_filename)"
   ]
  },
  {
   "cell_type": "code",
   "execution_count": 159,
   "metadata": {},
   "outputs": [],
   "source": [
    "genome_download_url = genome_data_df[\"download_url\"]\n",
    "genome_download_url = genome_download_url.sample(3)"
   ]
  },
  {
   "cell_type": "code",
   "execution_count": 160,
   "metadata": {},
   "outputs": [
    {
     "name": "stdout",
     "output_type": "stream",
     "text": [
      "currently downloading download/Escherichia_phage_alpha3.zip\n",
      "currently downloading download/Cellulomonas_fimi_ATCC_484.zip\n",
      "currently downloading download/Microbacterium_sediminis.zip\n"
     ]
    }
   ],
   "source": [
    "for download_url in genome_download_url:\n",
    "  genome_download_filename = download_url.split(\"filename=\")[1]\n",
    "  genome_download_filename = os.path.join(\"download/\" + genome_download_filename)\n",
    "\n",
    "  print(f\"currently downloading {genome_download_filename}\")\n",
    "  genome_download_res = requests.get(download_url)\n",
    "  with open(genome_download_filename, \"wb\") as file:\n",
    "    file.write(genome_download_res.content)"
   ]
  }
 ],
 "metadata": {
  "kernelspec": {
   "display_name": "Python 3",
   "language": "python",
   "name": "python3"
  },
  "language_info": {
   "codemirror_mode": {
    "name": "ipython",
    "version": 3
   },
   "file_extension": ".py",
   "mimetype": "text/x-python",
   "name": "python",
   "nbconvert_exporter": "python",
   "pygments_lexer": "ipython3",
   "version": "3.11.5"
  }
 },
 "nbformat": 4,
 "nbformat_minor": 2
}
